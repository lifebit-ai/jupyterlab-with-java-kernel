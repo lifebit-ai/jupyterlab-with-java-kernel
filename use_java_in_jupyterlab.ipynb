{
 "cells": [
  {
   "cell_type": "markdown",
   "metadata": {},
   "source": [
    "## Before starting: Installation of dependencies\n",
    "\n",
    "### 1. Initialise the environment for use with conda\n",
    "\n",
    "```bash\n",
    "conda init zsh\n",
    "exec -l. zsh\n",
    "```\n",
    "\n",
    "### 2. Create a new conda environment with the scijava-jupyter-kernel library \n",
    "\n",
    "The library provides a JupyterLab kernel with Java\n",
    "\n",
    "```\n",
    "conda create --name java  scijava-jupyter-kernel -y\n",
    "```\n",
    "\n",
    "### 3. Activate the newly created Java environment\n",
    "\n",
    "```\n",
    "conda activate java\n",
    "```\n",
    "\n",
    "Now Java can be used both from the command line, to execute files, or in an interactive session using a Java Notebook. \n",
    "See below how you can access the Jupyter Kernel with Java.\n",
    "\n",
    "#### 1. Creating a new Java Notebook\n",
    "\n",
    "A new Java Notebook can be created by accessing the `SciJava` tile in the launcher menu.\n",
    "\n",
    "See gif here: http://g.recordit.co/MxiFR9TOLK.gif\n",
    "\n",
    "#### 2. Opening an existing Java `ipynb` notebook\n",
    "\n",
    "When accessing an existing Java notebook, you can verify that the correct kernel (`sci-java`) has been selected by accessing the kernel dropdown in the top right corner.\n",
    "\n",
    "See gif here: http://g.recordit.co/FsIG9YHkzL.gif"
   ]
  },
  {
   "cell_type": "markdown",
   "metadata": {},
   "source": [
    "## Test the `scijava-jupyter-kernel` library that provides a JupyterLab kernel with Java"
   ]
  },
  {
   "cell_type": "code",
   "execution_count": null,
   "metadata": {},
   "outputs": [
    {
     "name": "stdout",
     "output_type": "stream",
     "text": [
      "total 28\n",
      "drwxr-xr-x 5 jovyan  1000 4096 Feb  1 13:26 .\n",
      "drwsrwsr-x 1 jovyan users 4096 Feb  1 13:23 ..\n",
      "drwxr-xr-x 2 jovyan users 4096 Feb  1 13:23 assets\n",
      "drwxr-xr-x 2 jovyan users 4096 Feb  1 12:47 .empty\n",
      "drwxr-xr-x 2 jovyan users 4096 Feb  1 13:21 .ipynb_checkpoints\n",
      "-rw-r--r-- 1 jovyan users 3095 Feb  1 13:26 use_java_in_jupyterlab.ipynb\n"
     ]
    }
   ],
   "source": [
    "/**\n",
    " * Test the scijava-jupyter-kernel library that provides a JupyterLab kernel with Java\n",
    " */\n",
    "\n",
    "String cmd = \"ls -al\";\n",
    "Runtime run = Runtime.getRuntime();\n",
    "Process pr = run.exec(cmd);\n",
    "pr.waitFor();\n",
    "BufferedReader buf = new BufferedReader(new InputStreamReader(pr.getInputStream()));\n",
    "String line = \"\";\n",
    "while ((line=buf.readLine())!=null) {\n",
    "System.out.println(line);\n",
    "}"
   ]
  }
 ],
 "metadata": {
  "kernelspec": {
   "display_name": "SciJava",
   "language": "groovy",
   "name": "scijava"
  },
  "language_info": {
   "codemirror_mode": "groovy",
   "file_extension": "",
   "mimetype": "",
   "name": "scijava",
   "nbconverter_exporter": "",
   "pygments_lexer": "groovy",
   "version": "1.0"
  }
 },
 "nbformat": 4,
 "nbformat_minor": 4
}
